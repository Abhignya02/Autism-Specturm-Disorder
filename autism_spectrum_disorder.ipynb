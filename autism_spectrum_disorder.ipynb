{
 "cells": [
  {
   "cell_type": "code",
   "execution_count": 2,
   "id": "2e53d453-fa05-447e-a157-067666e20d40",
   "metadata": {},
   "outputs": [],
   "source": [
    "import numpy as np \n",
    "import pandas as pd "
   ]
  },
  {
   "cell_type": "code",
   "execution_count": 3,
   "id": "00e6cf17-6857-4726-96bc-7460035d1037",
   "metadata": {},
   "outputs": [],
   "source": [
    "data = pd.read_csv('dataset.csv')"
   ]
  },
  {
   "cell_type": "code",
   "execution_count": 4,
   "id": "1bb09c24-6737-4c20-bae6-fd8c12db5b77",
   "metadata": {},
   "outputs": [
    {
     "data": {
      "text/html": [
       "<div>\n",
       "<style scoped>\n",
       "    .dataframe tbody tr th:only-of-type {\n",
       "        vertical-align: middle;\n",
       "    }\n",
       "\n",
       "    .dataframe tbody tr th {\n",
       "        vertical-align: top;\n",
       "    }\n",
       "\n",
       "    .dataframe thead th {\n",
       "        text-align: right;\n",
       "    }\n",
       "</style>\n",
       "<table border=\"1\" class=\"dataframe\">\n",
       "  <thead>\n",
       "    <tr style=\"text-align: right;\">\n",
       "      <th></th>\n",
       "      <th>A1_Score[Social_communication]</th>\n",
       "      <th>A2_Score[restrictive]</th>\n",
       "      <th>A3_Score[excellency]</th>\n",
       "      <th>A4_Score[sensory_issues]</th>\n",
       "      <th>A5_Score[aggression]</th>\n",
       "      <th>A6_Score[hyperactivity]</th>\n",
       "      <th>A7_Score[attention_problem]</th>\n",
       "      <th>A8_Score[anxiety]</th>\n",
       "      <th>A9_Score[depression]</th>\n",
       "      <th>A10_Score[irritability]</th>\n",
       "      <th>...</th>\n",
       "      <th>gender</th>\n",
       "      <th>Ethnicity</th>\n",
       "      <th>Jundice</th>\n",
       "      <th>Austim</th>\n",
       "      <th>contry_of_res</th>\n",
       "      <th>used_app_before</th>\n",
       "      <th>result_numeric</th>\n",
       "      <th>age_desc</th>\n",
       "      <th>relation</th>\n",
       "      <th>asd</th>\n",
       "    </tr>\n",
       "  </thead>\n",
       "  <tbody>\n",
       "    <tr>\n",
       "      <th>16</th>\n",
       "      <td>1</td>\n",
       "      <td>0</td>\n",
       "      <td>0</td>\n",
       "      <td>0</td>\n",
       "      <td>0</td>\n",
       "      <td>0</td>\n",
       "      <td>1</td>\n",
       "      <td>1</td>\n",
       "      <td>1</td>\n",
       "      <td>1</td>\n",
       "      <td>...</td>\n",
       "      <td>m</td>\n",
       "      <td>'Middle Eastern '</td>\n",
       "      <td>no</td>\n",
       "      <td>no</td>\n",
       "      <td>Jordan</td>\n",
       "      <td>no</td>\n",
       "      <td>5</td>\n",
       "      <td>'18 and more'</td>\n",
       "      <td>Self</td>\n",
       "      <td>NO</td>\n",
       "    </tr>\n",
       "  </tbody>\n",
       "</table>\n",
       "<p>1 rows × 21 columns</p>\n",
       "</div>"
      ],
      "text/plain": [
       "    A1_Score[Social_communication]  A2_Score[restrictive]   \\\n",
       "16                               1                       0   \n",
       "\n",
       "    A3_Score[excellency]   A4_Score[sensory_issues]   A5_Score[aggression]   \\\n",
       "16                      0                          0                      0   \n",
       "\n",
       "    A6_Score[hyperactivity]  A7_Score[attention_problem]   A8_Score[anxiety]   \\\n",
       "16                        0                             1                   1   \n",
       "\n",
       "    A9_Score[depression]   A10_Score[irritability]  ... gender  \\\n",
       "16                      1                        1  ...      m   \n",
       "\n",
       "            Ethnicity Jundice Austim  contry_of_res used_app_before  \\\n",
       "16  'Middle Eastern '      no      no        Jordan              no   \n",
       "\n",
       "   result_numeric      age_desc  relation asd  \n",
       "16              5  '18 and more'     Self  NO  \n",
       "\n",
       "[1 rows x 21 columns]"
      ]
     },
     "execution_count": 4,
     "metadata": {},
     "output_type": "execute_result"
    }
   ],
   "source": [
    "data.sample()"
   ]
  },
  {
   "cell_type": "code",
   "execution_count": 5,
   "id": "470dc75d-b453-4e52-9ccb-48adb9a667e3",
   "metadata": {},
   "outputs": [
    {
     "data": {
      "text/html": [
       "<div>\n",
       "<style scoped>\n",
       "    .dataframe tbody tr th:only-of-type {\n",
       "        vertical-align: middle;\n",
       "    }\n",
       "\n",
       "    .dataframe tbody tr th {\n",
       "        vertical-align: top;\n",
       "    }\n",
       "\n",
       "    .dataframe thead th {\n",
       "        text-align: right;\n",
       "    }\n",
       "</style>\n",
       "<table border=\"1\" class=\"dataframe\">\n",
       "  <thead>\n",
       "    <tr style=\"text-align: right;\">\n",
       "      <th></th>\n",
       "      <th>A1_Score[Social_communication]</th>\n",
       "      <th>A2_Score[restrictive]</th>\n",
       "      <th>A3_Score[excellency]</th>\n",
       "      <th>A4_Score[sensory_issues]</th>\n",
       "      <th>A5_Score[aggression]</th>\n",
       "      <th>A6_Score[hyperactivity]</th>\n",
       "      <th>A7_Score[attention_problem]</th>\n",
       "      <th>A8_Score[anxiety]</th>\n",
       "      <th>A9_Score[depression]</th>\n",
       "      <th>A10_Score[irritability]</th>\n",
       "      <th>...</th>\n",
       "      <th>gender</th>\n",
       "      <th>Ethnicity</th>\n",
       "      <th>Jundice</th>\n",
       "      <th>Austim</th>\n",
       "      <th>contry_of_res</th>\n",
       "      <th>used_app_before</th>\n",
       "      <th>result_numeric</th>\n",
       "      <th>age_desc</th>\n",
       "      <th>relation</th>\n",
       "      <th>asd</th>\n",
       "    </tr>\n",
       "  </thead>\n",
       "  <tbody>\n",
       "    <tr>\n",
       "      <th>0</th>\n",
       "      <td>1</td>\n",
       "      <td>1</td>\n",
       "      <td>1</td>\n",
       "      <td>1</td>\n",
       "      <td>0</td>\n",
       "      <td>0</td>\n",
       "      <td>1</td>\n",
       "      <td>1</td>\n",
       "      <td>0</td>\n",
       "      <td>0</td>\n",
       "      <td>...</td>\n",
       "      <td>f</td>\n",
       "      <td>White-European</td>\n",
       "      <td>no</td>\n",
       "      <td>no</td>\n",
       "      <td>'United States'</td>\n",
       "      <td>no</td>\n",
       "      <td>6</td>\n",
       "      <td>'18 and more'</td>\n",
       "      <td>Self</td>\n",
       "      <td>NO</td>\n",
       "    </tr>\n",
       "    <tr>\n",
       "      <th>1</th>\n",
       "      <td>1</td>\n",
       "      <td>1</td>\n",
       "      <td>0</td>\n",
       "      <td>1</td>\n",
       "      <td>0</td>\n",
       "      <td>0</td>\n",
       "      <td>0</td>\n",
       "      <td>1</td>\n",
       "      <td>0</td>\n",
       "      <td>1</td>\n",
       "      <td>...</td>\n",
       "      <td>m</td>\n",
       "      <td>Latino</td>\n",
       "      <td>no</td>\n",
       "      <td>yes</td>\n",
       "      <td>Brazil</td>\n",
       "      <td>no</td>\n",
       "      <td>5</td>\n",
       "      <td>'18 and more'</td>\n",
       "      <td>Self</td>\n",
       "      <td>NO</td>\n",
       "    </tr>\n",
       "    <tr>\n",
       "      <th>2</th>\n",
       "      <td>1</td>\n",
       "      <td>1</td>\n",
       "      <td>0</td>\n",
       "      <td>1</td>\n",
       "      <td>1</td>\n",
       "      <td>0</td>\n",
       "      <td>1</td>\n",
       "      <td>1</td>\n",
       "      <td>1</td>\n",
       "      <td>1</td>\n",
       "      <td>...</td>\n",
       "      <td>m</td>\n",
       "      <td>Latino</td>\n",
       "      <td>yes</td>\n",
       "      <td>yes</td>\n",
       "      <td>Spain</td>\n",
       "      <td>no</td>\n",
       "      <td>8</td>\n",
       "      <td>'18 and more'</td>\n",
       "      <td>Parent</td>\n",
       "      <td>YES</td>\n",
       "    </tr>\n",
       "    <tr>\n",
       "      <th>3</th>\n",
       "      <td>1</td>\n",
       "      <td>1</td>\n",
       "      <td>0</td>\n",
       "      <td>1</td>\n",
       "      <td>0</td>\n",
       "      <td>0</td>\n",
       "      <td>1</td>\n",
       "      <td>1</td>\n",
       "      <td>0</td>\n",
       "      <td>1</td>\n",
       "      <td>...</td>\n",
       "      <td>f</td>\n",
       "      <td>White-European</td>\n",
       "      <td>no</td>\n",
       "      <td>yes</td>\n",
       "      <td>'United States'</td>\n",
       "      <td>no</td>\n",
       "      <td>6</td>\n",
       "      <td>'18 and more'</td>\n",
       "      <td>Self</td>\n",
       "      <td>NO</td>\n",
       "    </tr>\n",
       "    <tr>\n",
       "      <th>4</th>\n",
       "      <td>1</td>\n",
       "      <td>0</td>\n",
       "      <td>0</td>\n",
       "      <td>0</td>\n",
       "      <td>0</td>\n",
       "      <td>0</td>\n",
       "      <td>0</td>\n",
       "      <td>1</td>\n",
       "      <td>0</td>\n",
       "      <td>0</td>\n",
       "      <td>...</td>\n",
       "      <td>f</td>\n",
       "      <td>?</td>\n",
       "      <td>no</td>\n",
       "      <td>no</td>\n",
       "      <td>Egypt</td>\n",
       "      <td>no</td>\n",
       "      <td>2</td>\n",
       "      <td>'18 and more'</td>\n",
       "      <td>?</td>\n",
       "      <td>NO</td>\n",
       "    </tr>\n",
       "  </tbody>\n",
       "</table>\n",
       "<p>5 rows × 21 columns</p>\n",
       "</div>"
      ],
      "text/plain": [
       "   A1_Score[Social_communication]  A2_Score[restrictive]   \\\n",
       "0                               1                       1   \n",
       "1                               1                       1   \n",
       "2                               1                       1   \n",
       "3                               1                       1   \n",
       "4                               1                       0   \n",
       "\n",
       "   A3_Score[excellency]   A4_Score[sensory_issues]   A5_Score[aggression]   \\\n",
       "0                      1                          1                      0   \n",
       "1                      0                          1                      0   \n",
       "2                      0                          1                      1   \n",
       "3                      0                          1                      0   \n",
       "4                      0                          0                      0   \n",
       "\n",
       "   A6_Score[hyperactivity]  A7_Score[attention_problem]   A8_Score[anxiety]   \\\n",
       "0                        0                             1                   1   \n",
       "1                        0                             0                   1   \n",
       "2                        0                             1                   1   \n",
       "3                        0                             1                   1   \n",
       "4                        0                             0                   1   \n",
       "\n",
       "   A9_Score[depression]   A10_Score[irritability]  ... gender       Ethnicity  \\\n",
       "0                      0                        0  ...      f  White-European   \n",
       "1                      0                        1  ...      m          Latino   \n",
       "2                      1                        1  ...      m          Latino   \n",
       "3                      0                        1  ...      f  White-European   \n",
       "4                      0                        0  ...      f               ?   \n",
       "\n",
       "  Jundice Austim     contry_of_res used_app_before result_numeric  \\\n",
       "0      no      no  'United States'              no              6   \n",
       "1      no     yes           Brazil              no              5   \n",
       "2     yes     yes            Spain              no              8   \n",
       "3      no     yes  'United States'              no              6   \n",
       "4      no      no            Egypt              no              2   \n",
       "\n",
       "       age_desc  relation  asd  \n",
       "0  '18 and more'     Self   NO  \n",
       "1  '18 and more'     Self   NO  \n",
       "2  '18 and more'   Parent  YES  \n",
       "3  '18 and more'     Self   NO  \n",
       "4  '18 and more'        ?   NO  \n",
       "\n",
       "[5 rows x 21 columns]"
      ]
     },
     "execution_count": 5,
     "metadata": {},
     "output_type": "execute_result"
    }
   ],
   "source": [
    "data.head()"
   ]
  },
  {
   "cell_type": "code",
   "execution_count": 6,
   "id": "a7c8838e-a58e-41a3-a867-0f62c2298fac",
   "metadata": {},
   "outputs": [
    {
     "data": {
      "text/plain": [
       "(717, 21)"
      ]
     },
     "execution_count": 6,
     "metadata": {},
     "output_type": "execute_result"
    }
   ],
   "source": [
    "data.shape\n"
   ]
  },
  {
   "cell_type": "code",
   "execution_count": 7,
   "id": "f12a5829-41ae-4907-bdde-246690e510e8",
   "metadata": {},
   "outputs": [
    {
     "data": {
      "text/plain": [
       "<bound method DataFrame.info of      A1_Score[Social_communication]  A2_Score[restrictive]   \\\n",
       "0                                 1                       1   \n",
       "1                                 1                       1   \n",
       "2                                 1                       1   \n",
       "3                                 1                       1   \n",
       "4                                 1                       0   \n",
       "..                              ...                     ...   \n",
       "712                               1                       0   \n",
       "713                               1                       0   \n",
       "714                               1                       1   \n",
       "715                               1                       1   \n",
       "716                               0                       1   \n",
       "\n",
       "     A3_Score[excellency]   A4_Score[sensory_issues]   A5_Score[aggression]   \\\n",
       "0                        1                          1                      0   \n",
       "1                        0                          1                      0   \n",
       "2                        0                          1                      1   \n",
       "3                        0                          1                      0   \n",
       "4                        0                          0                      0   \n",
       "..                     ...                        ...                    ...   \n",
       "712                      0                          1                      0   \n",
       "713                      1                          0                      0   \n",
       "714                      1                          0                      0   \n",
       "715                      0                          1                      1   \n",
       "716                      1                          1                      1   \n",
       "\n",
       "     A6_Score[hyperactivity]  A7_Score[attention_problem]   \\\n",
       "0                          0                             1   \n",
       "1                          0                             0   \n",
       "2                          0                             1   \n",
       "3                          0                             1   \n",
       "4                          0                             0   \n",
       "..                       ...                           ...   \n",
       "712                        1                             0   \n",
       "713                        0                             0   \n",
       "714                        1                             1   \n",
       "715                        0                             1   \n",
       "716                        1                             1   \n",
       "\n",
       "     A8_Score[anxiety]   A9_Score[depression]   A10_Score[irritability]  ...  \\\n",
       "0                     1                      0                        0  ...   \n",
       "1                     1                      0                        1  ...   \n",
       "2                     1                      1                        1  ...   \n",
       "3                     1                      0                        1  ...   \n",
       "4                     1                      0                        0  ...   \n",
       "..                  ...                    ...                      ...  ...   \n",
       "712                   0                      1                        1  ...   \n",
       "713                   0                      1                        0  ...   \n",
       "714                   1                      1                        1  ...   \n",
       "715                   1                      0                        0  ...   \n",
       "716                   0                      1                        1  ...   \n",
       "\n",
       "    gender       Ethnicity Jundice Austim     contry_of_res used_app_before  \\\n",
       "0        f  White-European      no      no  'United States'              no   \n",
       "1        m          Latino      no     yes           Brazil              no   \n",
       "2        m          Latino     yes     yes            Spain              no   \n",
       "3        f  White-European      no     yes  'United States'              no   \n",
       "4        f               ?      no      no            Egypt              no   \n",
       "..     ...             ...     ...     ...              ...             ...   \n",
       "712      f           Asian      no     yes           Russia             yes   \n",
       "713      m         Turkish      no      no           Russia             yes   \n",
       "714      m        Hispanic     yes     yes           Mexico             yes   \n",
       "715      f          Latino     yes      no           Mexico             yes   \n",
       "716      f    South Asian'     yes     yes           Mexico              no   \n",
       "\n",
       "    result_numeric      age_desc  relation  asd  \n",
       "0                6  '18 and more'     Self   NO  \n",
       "1                5  '18 and more'     Self   NO  \n",
       "2                8  '18 and more'   Parent  YES  \n",
       "3                6  '18 and more'     Self   NO  \n",
       "4                2  '18 and more'        ?   NO  \n",
       "..             ...            ...      ...  ...  \n",
       "712              5   18 and more'   Parent  YES  \n",
       "713              6   18 and more'   Parent  YES  \n",
       "714              1   18 and more'     Self  YES  \n",
       "715              1   18 and more'   Parent  YES  \n",
       "716              1   18 and more'     Self  YES  \n",
       "\n",
       "[717 rows x 21 columns]>"
      ]
     },
     "execution_count": 7,
     "metadata": {},
     "output_type": "execute_result"
    }
   ],
   "source": [
    "data.info"
   ]
  },
  {
   "cell_type": "code",
   "execution_count": 8,
   "id": "03473690-02e9-4366-95a7-3ba97ee08f61",
   "metadata": {},
   "outputs": [
    {
     "data": {
      "text/plain": [
       "Index(['A1_Score[Social_communication]', 'A2_Score[restrictive] ',\n",
       "       'A3_Score[excellency] ', 'A4_Score[sensory_issues] ',\n",
       "       'A5_Score[aggression] ', 'A6_Score[hyperactivity]',\n",
       "       'A7_Score[attention_problem] ', 'A8_Score[anxiety] ',\n",
       "       'A9_Score[depression] ', 'A10_Score[irritability]', 'age', 'gender',\n",
       "       'Ethnicity', 'Jundice', 'Austim ', 'contry_of_res', 'used_app_before',\n",
       "       'result_numeric', 'age_desc ', 'relation', 'asd'],\n",
       "      dtype='object')"
      ]
     },
     "execution_count": 8,
     "metadata": {},
     "output_type": "execute_result"
    }
   ],
   "source": [
    "data.columns"
   ]
  },
  {
   "cell_type": "markdown",
   "id": "0ed22326-a1d6-4d75-a722-8c5878e1dbf9",
   "metadata": {},
   "source": [
    "ID - ID of the patient\n",
    "\n",
    "A1_Score to A10_Score - Score based on Autism Spectrum Quotient (AQ) 10 item screening tool\n",
    "\n",
    "age - Age of the patient in years\n",
    "\n",
    "gender - Gender of the patient\n",
    "\n",
    "ethnicity - Ethnicity of the patient\n",
    "\n",
    "jaundice - Whether the patient had jaundice at the time of birth\n",
    "\n",
    "autism - Whether an immediate family member has been diagnosed with autism\n",
    "\n",
    "contry_of_res - Country of residence of the patient\n",
    "\n",
    "used_app_before - Whether the patient has undergone a screening test before\n",
    "\n",
    "result - Score for AQ1-10 screening test\n",
    "\n",
    "age_desc - Age of the patient\n",
    "\n",
    "relation - Relation of patient who completed the test\n",
    "\n",
    "Class/ASD - Classified result as 0 or 1. Here 0 represents No and 1 represents Yes. This is the target column, and during submission submit the values as 0 or 1 only."
   ]
  },
  {
   "cell_type": "code",
   "execution_count": 9,
   "id": "74f2b33e-4da4-4c9a-a2eb-b00a0042014a",
   "metadata": {},
   "outputs": [],
   "source": [
    "#excuding the columns that are repeating and do not contribute to the project prediction\n",
    "data=data[['A1_Score[Social_communication]', 'A2_Score[restrictive] ','A3_Score[excellency] ', \n",
    "           'A4_Score[sensory_issues] ','A5_Score[aggression] ', 'A6_Score[hyperactivity]',\n",
    "           'A7_Score[attention_problem] ', 'A8_Score[anxiety] ',\n",
    "       'A9_Score[depression] ', 'A10_Score[irritability]', 'age', 'gender',\n",
    "        'Jundice', 'Austim ', 'used_app_before','asd']]"
   ]
  },
  {
   "cell_type": "code",
   "execution_count": 10,
   "id": "9dede9d9-3600-4229-8ee6-7659407474aa",
   "metadata": {},
   "outputs": [
    {
     "data": {
      "text/plain": [
       "A1_Score[Social_communication]    0\n",
       "A2_Score[restrictive]             0\n",
       "A3_Score[excellency]              0\n",
       "A4_Score[sensory_issues]          0\n",
       "A5_Score[aggression]              0\n",
       "A6_Score[hyperactivity]           0\n",
       "A7_Score[attention_problem]       0\n",
       "A8_Score[anxiety]                 0\n",
       "A9_Score[depression]              0\n",
       "A10_Score[irritability]           0\n",
       "age                               0\n",
       "gender                            0\n",
       "Jundice                           0\n",
       "Austim                            0\n",
       "used_app_before                   0\n",
       "asd                               0\n",
       "dtype: int64"
      ]
     },
     "execution_count": 10,
     "metadata": {},
     "output_type": "execute_result"
    }
   ],
   "source": [
    "data.isnull().sum()"
   ]
  },
  {
   "cell_type": "code",
   "execution_count": 11,
   "id": "6b38532f-bbd1-4791-a475-fd2bded58546",
   "metadata": {},
   "outputs": [],
   "source": [
    "data=data.drop_duplicates()"
   ]
  },
  {
   "cell_type": "code",
   "execution_count": 12,
   "id": "fc036b7e-20cd-40f6-b532-f5ea715491ed",
   "metadata": {},
   "outputs": [
    {
     "name": "stdout",
     "output_type": "stream",
     "text": [
      "2\n"
     ]
    }
   ],
   "source": [
    "question_mark_count = (data == '?').sum().sum()\n",
    "print(question_mark_count)"
   ]
  },
  {
   "cell_type": "code",
   "execution_count": 13,
   "id": "3ce86f92-4fe4-4089-9a3d-bd3196dc31b5",
   "metadata": {},
   "outputs": [],
   "source": [
    "data = data.replace('?', pd.NA).dropna()"
   ]
  },
  {
   "cell_type": "code",
   "execution_count": 14,
   "id": "48e231ec-83d8-474c-82ee-63188e9bbd02",
   "metadata": {},
   "outputs": [
    {
     "data": {
      "text/plain": [
       "array(['f', 'm'], dtype=object)"
      ]
     },
     "execution_count": 14,
     "metadata": {},
     "output_type": "execute_result"
    }
   ],
   "source": [
    "data['gender'].unique()"
   ]
  },
  {
   "cell_type": "code",
   "execution_count": 15,
   "id": "ba65d3db-69a5-4978-9217-0e9629b30d04",
   "metadata": {},
   "outputs": [
    {
     "data": {
      "text/plain": [
       "array(['no', 'yes'], dtype=object)"
      ]
     },
     "execution_count": 15,
     "metadata": {},
     "output_type": "execute_result"
    }
   ],
   "source": [
    "data['Jundice'].unique()"
   ]
  },
  {
   "cell_type": "code",
   "execution_count": 16,
   "id": "e2ff6f61-6d18-46d7-964c-f02cac692456",
   "metadata": {},
   "outputs": [
    {
     "data": {
      "text/plain": [
       "array(['no', 'yes'], dtype=object)"
      ]
     },
     "execution_count": 16,
     "metadata": {},
     "output_type": "execute_result"
    }
   ],
   "source": [
    "data['Austim '].unique()"
   ]
  },
  {
   "cell_type": "code",
   "execution_count": 17,
   "id": "f06bc03a-bd53-40d6-a294-6fe69c5aed16",
   "metadata": {},
   "outputs": [
    {
     "data": {
      "text/plain": [
       "array(['no', 'yes'], dtype=object)"
      ]
     },
     "execution_count": 17,
     "metadata": {},
     "output_type": "execute_result"
    }
   ],
   "source": [
    "data['used_app_before'].unique()"
   ]
  },
  {
   "cell_type": "code",
   "execution_count": 18,
   "id": "adf1e706-8026-408e-8520-2e8e9a106a01",
   "metadata": {},
   "outputs": [
    {
     "data": {
      "text/plain": [
       "array(['NO', 'YES'], dtype=object)"
      ]
     },
     "execution_count": 18,
     "metadata": {},
     "output_type": "execute_result"
    }
   ],
   "source": [
    "data['asd'].unique()"
   ]
  },
  {
   "cell_type": "code",
   "execution_count": 19,
   "id": "73705d15-9151-4215-b7c2-83a9e9498e1b",
   "metadata": {},
   "outputs": [
    {
     "name": "stdout",
     "output_type": "stream",
     "text": [
      "NaN values in the dataset:\n",
      "A1_Score[Social_communication]    0\n",
      "A2_Score[restrictive]             0\n",
      "A3_Score[excellency]              0\n",
      "A4_Score[sensory_issues]          0\n",
      "A5_Score[aggression]              0\n",
      "A6_Score[hyperactivity]           0\n",
      "A7_Score[attention_problem]       0\n",
      "A8_Score[anxiety]                 0\n",
      "A9_Score[depression]              0\n",
      "A10_Score[irritability]           0\n",
      "age                               0\n",
      "gender                            0\n",
      "Jundice                           0\n",
      "Austim                            0\n",
      "used_app_before                   0\n",
      "asd                               0\n",
      "dtype: int64\n"
     ]
    }
   ],
   "source": [
    "data['gender'] = data['gender'].map({'m': 0, 'f': 1})  \n",
    "data['Jundice'] = data['Jundice'].map({'yes': 1, 'no': 0}) \n",
    "data['Austim '] = data['Austim '].map({'yes': 1, 'no': 0})  \n",
    "data['used_app_before'] = data['used_app_before'].map({'yes': 1, 'no': 0})  \n",
    "data['asd'] = data['asd'].map({'NO': 0, 'YES': 1}) \n",
    "# Check if there are any NaN values after mapping\n",
    "print(\"NaN values in the dataset:\")\n",
    "print(data.isna().sum())"
   ]
  },
  {
   "cell_type": "code",
   "execution_count": 20,
   "id": "efc36a84-fb3f-44aa-99c6-b2ee8351f370",
   "metadata": {},
   "outputs": [
    {
     "data": {
      "text/html": [
       "<div>\n",
       "<style scoped>\n",
       "    .dataframe tbody tr th:only-of-type {\n",
       "        vertical-align: middle;\n",
       "    }\n",
       "\n",
       "    .dataframe tbody tr th {\n",
       "        vertical-align: top;\n",
       "    }\n",
       "\n",
       "    .dataframe thead th {\n",
       "        text-align: right;\n",
       "    }\n",
       "</style>\n",
       "<table border=\"1\" class=\"dataframe\">\n",
       "  <thead>\n",
       "    <tr style=\"text-align: right;\">\n",
       "      <th></th>\n",
       "      <th>A1_Score[Social_communication]</th>\n",
       "      <th>A2_Score[restrictive]</th>\n",
       "      <th>A3_Score[excellency]</th>\n",
       "      <th>A4_Score[sensory_issues]</th>\n",
       "      <th>A5_Score[aggression]</th>\n",
       "      <th>A6_Score[hyperactivity]</th>\n",
       "      <th>A7_Score[attention_problem]</th>\n",
       "      <th>A8_Score[anxiety]</th>\n",
       "      <th>A9_Score[depression]</th>\n",
       "      <th>A10_Score[irritability]</th>\n",
       "      <th>age</th>\n",
       "      <th>gender</th>\n",
       "      <th>Jundice</th>\n",
       "      <th>Austim</th>\n",
       "      <th>used_app_before</th>\n",
       "      <th>asd</th>\n",
       "    </tr>\n",
       "  </thead>\n",
       "  <tbody>\n",
       "    <tr>\n",
       "      <th>42</th>\n",
       "      <td>0</td>\n",
       "      <td>0</td>\n",
       "      <td>1</td>\n",
       "      <td>1</td>\n",
       "      <td>0</td>\n",
       "      <td>0</td>\n",
       "      <td>0</td>\n",
       "      <td>0</td>\n",
       "      <td>0</td>\n",
       "      <td>1</td>\n",
       "      <td>34</td>\n",
       "      <td>1</td>\n",
       "      <td>0</td>\n",
       "      <td>1</td>\n",
       "      <td>0</td>\n",
       "      <td>0</td>\n",
       "    </tr>\n",
       "  </tbody>\n",
       "</table>\n",
       "</div>"
      ],
      "text/plain": [
       "    A1_Score[Social_communication]  A2_Score[restrictive]   \\\n",
       "42                               0                       0   \n",
       "\n",
       "    A3_Score[excellency]   A4_Score[sensory_issues]   A5_Score[aggression]   \\\n",
       "42                      1                          1                      0   \n",
       "\n",
       "    A6_Score[hyperactivity]  A7_Score[attention_problem]   A8_Score[anxiety]   \\\n",
       "42                        0                             0                   0   \n",
       "\n",
       "    A9_Score[depression]   A10_Score[irritability] age  gender  Jundice  \\\n",
       "42                      0                        1  34       1        0   \n",
       "\n",
       "    Austim   used_app_before  asd  \n",
       "42        1                0    0  "
      ]
     },
     "execution_count": 20,
     "metadata": {},
     "output_type": "execute_result"
    }
   ],
   "source": [
    "data.sample()"
   ]
  },
  {
   "cell_type": "code",
   "execution_count": 21,
   "id": "f8d81ca0-a377-4e06-90a5-5dd633365e47",
   "metadata": {},
   "outputs": [],
   "source": [
    "# Defining the features (X) and the target variable (y)\n",
    "X = data.drop(['asd'], axis=1)\n",
    "y = data['asd']"
   ]
  },
  {
   "cell_type": "code",
   "execution_count": 22,
   "id": "9f4b9ee1-8954-4994-83e5-302ea0eb9f19",
   "metadata": {},
   "outputs": [],
   "source": [
    "# Split the dataset into training and testing sets\n",
    "from sklearn.model_selection import train_test_split\n",
    "X_train, X_test, y_train, y_test = train_test_split(X, y, test_size=0.2, random_state=40)"
   ]
  },
  {
   "cell_type": "code",
   "execution_count": 23,
   "id": "f829a416-183f-4345-aee4-9e789394b7a9",
   "metadata": {},
   "outputs": [],
   "source": [
    "from sklearn.preprocessing import StandardScaler\n",
    "# Standardize the features\n",
    "scaler = StandardScaler()\n",
    "X_train = scaler.fit_transform(X_train)\n",
    "X_test = scaler.transform(X_test)"
   ]
  },
  {
   "cell_type": "code",
   "execution_count": 24,
   "id": "8cf154e9-814d-4610-b42e-cb9d04996adf",
   "metadata": {},
   "outputs": [
    {
     "name": "stdout",
     "output_type": "stream",
     "text": [
      "Logistic Regression:\n",
      "Accuracy: 0.9927536231884058\n",
      "Classification Report:\n",
      "              precision    recall  f1-score   support\n",
      "\n",
      "           0       0.99      1.00      1.00       106\n",
      "           1       1.00      0.97      0.98        32\n",
      "\n",
      "    accuracy                           0.99       138\n",
      "   macro avg       1.00      0.98      0.99       138\n",
      "weighted avg       0.99      0.99      0.99       138\n",
      "\n",
      "Confusion Matrix:\n",
      "[[106   0]\n",
      " [  1  31]]\n"
     ]
    }
   ],
   "source": [
    "from sklearn.linear_model import LogisticRegression\n",
    "from sklearn.metrics import accuracy_score, classification_report, confusion_matrix\n",
    "# Train and evaluate Logistic Regression model\n",
    "lr_model = LogisticRegression()\n",
    "lr_model.fit(X_train, y_train)\n",
    "y_pred_lr = lr_model.predict(X_test)\n",
    "print(\"Logistic Regression:\")\n",
    "print(\"Accuracy:\", accuracy_score(y_test, y_pred_lr))\n",
    "print(\"Classification Report:\")\n",
    "print(classification_report(y_test, y_pred_lr))\n",
    "print(\"Confusion Matrix:\")\n",
    "print(confusion_matrix(y_test, y_pred_lr))"
   ]
  },
  {
   "cell_type": "code",
   "execution_count": 25,
   "id": "6685dc09-9c91-4547-8212-05864d7dab5d",
   "metadata": {},
   "outputs": [
    {
     "name": "stdout",
     "output_type": "stream",
     "text": [
      "Decision Tree Classifier:\n",
      "Accuracy: 0.9057971014492754\n",
      "Classification Report:\n",
      "              precision    recall  f1-score   support\n",
      "\n",
      "           0       0.95      0.92      0.94       106\n",
      "           1       0.77      0.84      0.81        32\n",
      "\n",
      "    accuracy                           0.91       138\n",
      "   macro avg       0.86      0.88      0.87       138\n",
      "weighted avg       0.91      0.91      0.91       138\n",
      "\n",
      "Confusion Matrix:\n",
      "[[98  8]\n",
      " [ 5 27]]\n"
     ]
    }
   ],
   "source": [
    "from sklearn.tree import DecisionTreeClassifier\n",
    "\n",
    "# Train and evaluate Decision Tree Classifier model\n",
    "dt_model = DecisionTreeClassifier()\n",
    "dt_model.fit(X_train, y_train)\n",
    "y_pred_dt = dt_model.predict(X_test)\n",
    "print(\"Decision Tree Classifier:\")\n",
    "print(\"Accuracy:\", accuracy_score(y_test, y_pred_dt))\n",
    "print(\"Classification Report:\")\n",
    "print(classification_report(y_test, y_pred_dt))\n",
    "print(\"Confusion Matrix:\")\n",
    "print(confusion_matrix(y_test, y_pred_dt))"
   ]
  },
  {
   "cell_type": "code",
   "execution_count": 26,
   "id": "47f9961f-5452-4e79-afd9-59e0bc4b8260",
   "metadata": {},
   "outputs": [
    {
     "name": "stdout",
     "output_type": "stream",
     "text": [
      "Random Forest Classifier:\n",
      "Accuracy: 0.9565217391304348\n",
      "Classification Report:\n",
      "              precision    recall  f1-score   support\n",
      "\n",
      "           0       0.95      0.99      0.97       106\n",
      "           1       0.96      0.84      0.90        32\n",
      "\n",
      "    accuracy                           0.96       138\n",
      "   macro avg       0.96      0.92      0.94       138\n",
      "weighted avg       0.96      0.96      0.96       138\n",
      "\n",
      "Confusion Matrix:\n",
      "[[105   1]\n",
      " [  5  27]]\n"
     ]
    }
   ],
   "source": [
    "from sklearn.ensemble import RandomForestClassifier\n",
    "# Train and evaluate Random Forest Classifier model\n",
    "rf_model = RandomForestClassifier()\n",
    "rf_model.fit(X_train, y_train)\n",
    "y_pred_rf = rf_model.predict(X_test)\n",
    "print(\"Random Forest Classifier:\")\n",
    "print(\"Accuracy:\", accuracy_score(y_test, y_pred_rf))\n",
    "print(\"Classification Report:\")\n",
    "print(classification_report(y_test, y_pred_rf))\n",
    "print(\"Confusion Matrix:\")\n",
    "print(confusion_matrix(y_test, y_pred_rf))\n"
   ]
  },
  {
   "cell_type": "code",
   "execution_count": 27,
   "id": "fdbfd174-22af-490e-9cf5-fd3c737d7112",
   "metadata": {},
   "outputs": [
    {
     "name": "stdout",
     "output_type": "stream",
     "text": [
      "Support Vector Machine:\n",
      "Accuracy: 0.9710144927536232\n",
      "Classification Report:\n",
      "              precision    recall  f1-score   support\n",
      "\n",
      "           0       0.97      0.99      0.98       106\n",
      "           1       0.97      0.91      0.94        32\n",
      "\n",
      "    accuracy                           0.97       138\n",
      "   macro avg       0.97      0.95      0.96       138\n",
      "weighted avg       0.97      0.97      0.97       138\n",
      "\n",
      "Confusion Matrix:\n",
      "[[105   1]\n",
      " [  3  29]]\n"
     ]
    }
   ],
   "source": [
    "from sklearn.svm import SVC\n",
    "# Train and evaluate Support Vector Machine model\n",
    "svm_model = SVC()\n",
    "svm_model.fit(X_train, y_train)\n",
    "y_pred_svm = svm_model.predict(X_test)\n",
    "print(\"Support Vector Machine:\")\n",
    "print(\"Accuracy:\", accuracy_score(y_test, y_pred_svm))\n",
    "print(\"Classification Report:\")\n",
    "print(classification_report(y_test, y_pred_svm))\n",
    "print(\"Confusion Matrix:\")\n",
    "print(confusion_matrix(y_test, y_pred_svm))"
   ]
  },
  {
   "cell_type": "code",
   "execution_count": 28,
   "id": "8ac4c3e7-735f-4696-ae43-cf66be96dc27",
   "metadata": {},
   "outputs": [],
   "source": [
    "import pickle\n",
    "pickle.dump(lr_model,open('asd.pkl','wb'))"
   ]
  },
  {
   "cell_type": "code",
   "execution_count": 29,
   "id": "46addf61-6791-48eb-a712-eeed901897c6",
   "metadata": {},
   "outputs": [],
   "source": [
    "final_model = pickle.load(open('asd.pkl','rb'))"
   ]
  },
  {
   "cell_type": "code",
   "execution_count": 30,
   "id": "262ec59b-accc-4cfe-8935-fa68e0bb7442",
   "metadata": {},
   "outputs": [],
   "source": [
    "pred=final_model.predict(X_test)"
   ]
  },
  {
   "cell_type": "code",
   "execution_count": 31,
   "id": "63b40988-feb8-4777-9fff-6a0c95f409e3",
   "metadata": {},
   "outputs": [
    {
     "name": "stdout",
     "output_type": "stream",
     "text": [
      "Accuracy: 0.9927536231884058\n"
     ]
    }
   ],
   "source": [
    "print(\"Accuracy:\", accuracy_score(y_test,pred))"
   ]
  },
  {
   "cell_type": "code",
   "execution_count": 37,
   "id": "ac88203c-ec58-4917-9a2c-4c2c80d88882",
   "metadata": {},
   "outputs": [
    {
     "name": "stdin",
     "output_type": "stream",
     "text": [
      "Social Communication - Do you find it difficult to start conversations with people you don’t know well? yes/no  no\n",
      "Restrictive Behaviors -  Are there specific sounds or lights that you find overwhelming? yes/no no\n",
      "excellency - Do you have any specific interests or activities that you focus on intensely? yes/no no\n",
      "Sensory Issues - Are there specific sounds or lights that you find overwhelming? yes/no no\n",
      "Aggression - Do you often find it hard to manage feelings of frustration or anger? yes/no no\n",
      "Hyperactivity - Do you find it challenging to stay still or calm for extended periods? yes/no no\n",
      "Attention Problems - Do you have difficulty staying focused on tasks for a long time? yes/no no\n",
      "Anxiety - Do you often feel anxious in certain situations or events? yes/no no\n",
      "Depression - Do you frequently experience feelings of sadness? yes/no no\n",
      "Irritability - Do you get irritable in response to specific situations or events? yes/no no\n",
      "Enter your age: 1\n",
      "Male/Female  gender - Gender of the patient Male\n",
      "jaundice - Whether the you had jaundice at the time of birth yes/no no\n",
      "autism - Whether an immediate family member has been diagnosed with autism yes/no no\n",
      "used_app_before - Whether the patient has undergone a screening test before yes/no no\n"
     ]
    },
    {
     "name": "stdout",
     "output_type": "stream",
     "text": [
      "The test indicates that you don't have Autism Specturm Disorder\n"
     ]
    }
   ],
   "source": [
    "selected_val1 = input(\"Social Communication - Do you find it difficult to start conversations with people you don’t know well? yes/no \")\n",
    "selected_val2 = input(\"Restrictive Behaviors -  Are there specific sounds or lights that you find overwhelming? yes/no\")\n",
    "selected_val3 = input(\"excellency - Do you have any specific interests or activities that you focus on intensely? yes/no\")\n",
    "selected_val4 = input(\"Sensory Issues - Are there specific sounds or lights that you find overwhelming? yes/no\")\n",
    "selected_val5 = input(\"Aggression - Do you often find it hard to manage feelings of frustration or anger? yes/no\")\n",
    "selected_val6 = input(\"Hyperactivity - Do you find it challenging to stay still or calm for extended periods? yes/no\")\n",
    "selected_val7 = input(\"Attention Problems - Do you have difficulty staying focused on tasks for a long time? yes/no\")\n",
    "selected_val8 = input(\"Anxiety - Do you often feel anxious in certain situations or events? yes/no\")\n",
    "selected_val9 = input(\"Depression - Do you frequently experience feelings of sadness? yes/no\")\n",
    "selected_val10 = input(\"Irritability - Do you get irritable in response to specific situations or events? yes/no\")\n",
    "selected_val_age = int(input(\"Enter your age:\"))\n",
    "selected_val_gender = input(\"Male/Female  gender - Gender of the patient\")\n",
    "selected_val_jaundice = input(\"jaundice - Whether the you had jaundice at the time of birth yes/no\")\n",
    "selected_val_autism = input(\"autism - Whether an immediate family member has been diagnosed with autism yes/no\")\n",
    "selected_val_app = input(\"used_app_before - Whether the patient has undergone a screening test before yes/no\")\n",
    "data = [selected_val1, selected_val2, selected_val3, selected_val4, selected_val5, selected_val6, selected_val7, selected_val8,selected_val9, selected_val10, selected_val_age, selected_val_gender, selected_val_jaundice, selected_val_autism, selected_val_app]\n",
    "dict1 = {\"yes\": 1, \"no\": 0, \"Male\": 0, \"Female\": 1}\n",
    "def map_values(data, dict1):\n",
    "    return [dict.get(item, item) for item in data]\n",
    "data = map_values(data, dict1)\n",
    "data = np.array(data)\n",
    "data = data.reshape(1,-1)\n",
    "prediction = lr_model.predict(data)\n",
    "final_prediction = int(prediction.item() )\n",
    "\n",
    "if final_prediction==0:\n",
    "    print(\"The test indicates that you don't have Autism Specturm Disorder\")\n",
    "else:\n",
    "    print(\"The test indicates that you  have Autism Spectrum Disorder\")\n",
    "\n"
   ]
  },
  {
   "cell_type": "code",
   "execution_count": null,
   "id": "339a8b96-b0b1-44fb-ae0e-807835566ac8",
   "metadata": {},
   "outputs": [],
   "source": []
  },
  {
   "cell_type": "code",
   "execution_count": null,
   "id": "0887c4f6-1c92-4d6a-a6ff-233f6c36b434",
   "metadata": {},
   "outputs": [],
   "source": []
  }
 ],
 "metadata": {
  "kernelspec": {
   "display_name": "Python 3 (ipykernel)",
   "language": "python",
   "name": "python3"
  },
  "language_info": {
   "codemirror_mode": {
    "name": "ipython",
    "version": 3
   },
   "file_extension": ".py",
   "mimetype": "text/x-python",
   "name": "python",
   "nbconvert_exporter": "python",
   "pygments_lexer": "ipython3",
   "version": "3.12.2"
  }
 },
 "nbformat": 4,
 "nbformat_minor": 5
}
